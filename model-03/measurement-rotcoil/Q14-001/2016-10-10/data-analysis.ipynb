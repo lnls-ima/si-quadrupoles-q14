{
 "cells": [
  {
   "cell_type": "markdown",
   "metadata": {},
   "source": [
    "## Import packages and default parameters"
   ]
  },
  {
   "cell_type": "code",
   "execution_count": 1,
   "metadata": {
    "collapsed": false
   },
   "outputs": [
    {
     "name": "stdout",
     "output_type": "stream",
     "text": [
      "SI Q14 Default Analysis Parameters\n",
      "==================================\n",
      "label                          Parameters for SI Q14 quadrupoles\n",
      "main_harmonic                  2 (quadrupole)\n",
      "main_harmonic_is_skew          False\n",
      "reference_radius[mm]           12.000000\n",
      "harmonics                      [1, 2, 3, 4, 5, 6, 7, 8, 9, 10, 11, 12, 13, 14, 15, 16, 17, 18]\n"
     ]
    }
   ],
   "source": [
    "import lnls.rotating_coil as rc\n",
    "import lnls.utils as ut\n",
    "\n",
    "# --- load default analysis parameters for SI Q14 ---\n",
    "parms = rc.SI_Q14_AnalysisParameters()\n",
    "print('SI Q14 Default Analysis Parameters'); \n",
    "print('==================================')\n",
    "print(parms)"
   ]
  },
  {
   "cell_type": "markdown",
   "metadata": {},
   "source": [
    "## Load files and run analysis "
   ]
  },
  {
   "cell_type": "code",
   "execution_count": 2,
   "metadata": {
    "collapsed": false
   },
   "outputs": [
    {
     "name": "stdout",
     "output_type": "stream",
     "text": [
      "00 - Q14-001_Q_BOB_+0000A_161010_114321.dat, current:   +0.0579 +/- 0.0059\n",
      "01 - Q14-001_Q_BOB_+0002A_161010_114408.dat, current:   +2.0559 +/- 0.0064\n",
      "02 - Q14-001_Q_BOB_+0004A_161010_114456.dat, current:   +4.0509 +/- 0.0062\n",
      "03 - Q14-001_Q_BOB_+0006A_161010_114543.dat, current:   +6.0461 +/- 0.0073\n",
      "04 - Q14-001_Q_BOB_+0008A_161010_114631.dat, current:   +8.0428 +/- 0.0059\n",
      "05 - Q14-001_Q_BOB_+0010A_161010_114719.dat, current:  +10.0398 +/- 0.0072\n",
      "06 - Q14-001_Q_BOB_+0030A_161010_114808.dat, current:  +30.0108 +/- 0.0143\n",
      "07 - Q14-001_Q_BOB_+0050A_161010_114858.dat, current:  +49.9975 +/- 0.0154\n",
      "08 - Q14-001_Q_BOB_+0070A_161010_114947.dat, current:  +70.0159 +/- 0.0302\n",
      "09 - Q14-001_Q_BOB_+0090A_161010_115037.dat, current:  +90.0263 +/- 0.0401\n",
      "10 - Q14-001_Q_BOB_+0110A_161010_115126.dat, current: +109.9921 +/- 0.0445\n",
      "11 - Q14-001_Q_BOB_+0130A_161010_115301.dat, current: +129.9376 +/- 0.0259\n",
      "12 - Q14-001_Q_BOB_+0150A_161010_115351.dat, current: +149.7663 +/- 0.0235\n",
      "13 - Q14-001_Q_BOB_+0130A_161010_115441.dat, current: +129.9421 +/- 0.0300\n",
      "14 - Q14-001_Q_BOB_+0110A_161010_115531.dat, current: +110.0009 +/- 0.0445\n",
      "15 - Q14-001_Q_BOB_+0090A_161010_115620.dat, current:  +90.0160 +/- 0.0382\n",
      "16 - Q14-001_Q_BOB_+0070A_161010_115710.dat, current:  +70.0094 +/- 0.0261\n",
      "17 - Q14-001_Q_BOB_+0050A_161010_115800.dat, current:  +49.9906 +/- 0.0103\n",
      "18 - Q14-001_Q_BOB_+0030A_161010_115849.dat, current:  +30.0149 +/- 0.0119\n",
      "19 - Q14-001_Q_BOB_+0010A_161010_115939.dat, current:  +10.0382 +/- 0.0102\n",
      "20 - Q14-001_Q_BOB_+0008A_161010_120027.dat, current:   +8.0410 +/- 0.0115\n",
      "21 - Q14-001_Q_BOB_+0006A_161010_120115.dat, current:   +6.0440 +/- 0.0121\n",
      "22 - Q14-001_Q_BOB_+0004A_161010_120202.dat, current:   +4.0503 +/- 0.0103\n",
      "23 - Q14-001_Q_BOB_+0002A_161010_120250.dat, current:   +2.0550 +/- 0.0099\n",
      "24 - Q14-001_Q_BOB_+0000A_161010_120338.dat, current:   +0.0567 +/- 0.0073\n",
      "25 - Q14-001_Q_BOB_+0000A_161010_123337.dat, current:   +0.0553 +/- 0.0002\n",
      "26 - Q14-001_Q_BOB_+0002A_161010_123425.dat, current:   +2.0535 +/- 0.0003\n",
      "27 - Q14-001_Q_BOB_+0004A_161010_123512.dat, current:   +4.0491 +/- 0.0003\n",
      "28 - Q14-001_Q_BOB_+0006A_161010_123601.dat, current:   +6.0452 +/- 0.0005\n",
      "29 - Q14-001_Q_BOB_+0008A_161010_123649.dat, current:   +8.0417 +/- 0.0008\n",
      "30 - Q14-001_Q_BOB_+0010A_161010_123737.dat, current:  +10.0386 +/- 0.0017\n",
      "31 - Q14-001_Q_BOB_+0030A_161010_123827.dat, current:  +30.0236 +/- 0.0013\n",
      "32 - Q14-001_Q_BOB_+0050A_161010_123918.dat, current:  +50.0241 +/- 0.0004\n",
      "33 - Q14-001_Q_BOB_+0070A_161010_124008.dat, current:  +70.0324 +/- 0.0006\n",
      "34 - Q14-001_Q_BOB_+0090A_161010_124058.dat, current:  +90.0238 +/- 0.0007\n",
      "35 - Q14-001_Q_BOB_+0110A_161010_124148.dat, current: +110.0008 +/- 0.0008\n",
      "36 - Q14-001_Q_BOB_+0130A_161010_124239.dat, current: +129.9806 +/- 0.0009\n",
      "37 - Q14-001_Q_BOB_+0150A_161010_124330.dat, current: +149.9462 +/- 0.0007\n",
      "38 - Q14-001_Q_BOB_+0130A_161010_124420.dat, current: +129.9806 +/- 0.0009\n",
      "39 - Q14-001_Q_BOB_+0110A_161010_124511.dat, current: +109.9986 +/- 0.0010\n",
      "40 - Q14-001_Q_BOB_+0090A_161010_124601.dat, current:  +90.0211 +/- 0.0008\n",
      "41 - Q14-001_Q_BOB_+0070A_161010_124651.dat, current:  +70.0305 +/- 0.0006\n",
      "42 - Q14-001_Q_BOB_+0050A_161010_124742.dat, current:  +50.0222 +/- 0.0005\n",
      "43 - Q14-001_Q_BOB_+0030A_161010_124832.dat, current:  +30.0228 +/- 0.0006\n",
      "44 - Q14-001_Q_BOB_+0010A_161010_124922.dat, current:  +10.0381 +/- 0.0012\n",
      "45 - Q14-001_Q_BOB_+0008A_161010_125011.dat, current:   +8.0420 +/- 0.0009\n",
      "46 - Q14-001_Q_BOB_+0006A_161010_125059.dat, current:   +6.0455 +/- 0.0007\n",
      "47 - Q14-001_Q_BOB_+0004A_161010_125147.dat, current:   +4.0495 +/- 0.0004\n",
      "48 - Q14-001_Q_BOB_+0002A_161010_125235.dat, current:   +2.0538 +/- 0.0003\n",
      "49 - Q14-001_Q_BOB_+0000A_161010_125324.dat, current:   +0.0553 +/- 0.0003\n",
      "50 - Q14-001_Q_BOB_+0000A_161010_142432.dat, current:   +0.0531 +/- 0.0002\n",
      "51 - Q14-001_Q_BOB_+0002A_161010_142520.dat, current:   +2.0518 +/- 0.0002\n",
      "52 - Q14-001_Q_BOB_+0004A_161010_142608.dat, current:   +4.0475 +/- 0.0005\n",
      "53 - Q14-001_Q_BOB_+0006A_161010_142656.dat, current:   +6.0429 +/- 0.0005\n",
      "54 - Q14-001_Q_BOB_+0008A_161010_142744.dat, current:   +8.0395 +/- 0.0010\n",
      "55 - Q14-001_Q_BOB_+0010A_161010_142832.dat, current:  +10.0354 +/- 0.0022\n",
      "56 - Q14-001_Q_BOB_+0030A_161010_142922.dat, current:  +30.0196 +/- 0.0050\n",
      "57 - Q14-001_Q_BOB_+0050A_161010_143013.dat, current:  +50.0241 +/- 0.0011\n",
      "58 - Q14-001_Q_BOB_+0070A_161010_143103.dat, current:  +70.0365 +/- 0.0005\n",
      "59 - Q14-001_Q_BOB_+0090A_161010_143153.dat, current:  +90.0307 +/- 0.0006\n",
      "60 - Q14-001_Q_BOB_+0110A_161010_143244.dat, current: +110.0101 +/- 0.0008\n",
      "61 - Q14-001_Q_BOB_+0130A_161010_143335.dat, current: +129.9933 +/- 0.0008\n",
      "62 - Q14-001_Q_BOB_+0150A_161010_143425.dat, current: +149.9625 +/- 0.0007\n",
      "63 - Q14-001_Q_BOB_+0130A_161010_143515.dat, current: +129.9928 +/- 0.0009\n",
      "64 - Q14-001_Q_BOB_+0110A_161010_143651.dat, current: +110.0075 +/- 0.0007\n",
      "65 - Q14-001_Q_BOB_+0090A_161010_143742.dat, current:  +90.0272 +/- 0.0008\n",
      "66 - Q14-001_Q_BOB_+0070A_161010_143832.dat, current:  +70.0338 +/- 0.0005\n",
      "67 - Q14-001_Q_BOB_+0050A_161010_143923.dat, current:  +50.0232 +/- 0.0004\n",
      "68 - Q14-001_Q_BOB_+0030A_161010_144013.dat, current:  +30.0215 +/- 0.0006\n",
      "69 - Q14-001_Q_BOB_+0010A_161010_144103.dat, current:  +10.0358 +/- 0.0014\n",
      "70 - Q14-001_Q_BOB_+0008A_161010_144151.dat, current:   +8.0404 +/- 0.0013\n",
      "71 - Q14-001_Q_BOB_+0006A_161010_144239.dat, current:   +6.0439 +/- 0.0006\n",
      "72 - Q14-001_Q_BOB_+0004A_161010_144328.dat, current:   +4.0481 +/- 0.0004\n",
      "73 - Q14-001_Q_BOB_+0002A_161010_144416.dat, current:   +2.0526 +/- 0.0002\n",
      "74 - Q14-001_Q_BOB_+0000A_161010_144504.dat, current:   +0.0537 +/- 0.0002\n",
      "75 - Q14-001_Q_BOB_+0000A_161013_095949.dat, current:   -0.0012 +/- 0.0000\n",
      "76 - Q14-001_Q_BOB_+0001A_161013_100037.dat, current:   +1.0010 +/- 0.0000\n",
      "77 - Q14-001_Q_BOB_+0003A_161013_100126.dat, current:   +3.0055 +/- 0.0000\n",
      "78 - Q14-001_Q_BOB_+0005A_161013_100215.dat, current:   +5.0098 +/- 0.0001\n",
      "79 - Q14-001_Q_BOB_+0007A_161013_100303.dat, current:   +7.0146 +/- 0.0000\n",
      "80 - Q14-001_Q_BOB_+0009A_161013_100352.dat, current:   +9.0192 +/- 0.0000\n",
      "81 - Q14-001_Q_BOB_+0010A_161013_100440.dat, current:   +9.9992 +/- 0.0001\n",
      "82 - Q14-001_Q_BOB_+0009A_161013_100528.dat, current:   +9.0193 +/- 0.0000\n",
      "83 - Q14-001_Q_BOB_+0007A_161013_100617.dat, current:   +7.0146 +/- 0.0000\n",
      "84 - Q14-001_Q_BOB_+0005A_161013_100706.dat, current:   +5.0098 +/- 0.0000\n",
      "85 - Q14-001_Q_BOB_+0003A_161013_100755.dat, current:   +3.0055 +/- 0.0001\n",
      "86 - Q14-001_Q_BOB_+0001A_161013_100843.dat, current:   +1.0011 +/- 0.0000\n",
      "87 - Q14-001_Q_BOB_+0000A_161013_100932.dat, current:   -0.0011 +/- 0.0001\n",
      "88 - Q14-001_Q_BOB_-0001A_161013_101105.dat, current:   -1.0033 +/- 0.0000\n",
      "89 - Q14-001_Q_BOB_-0003A_161013_101154.dat, current:   -3.0079 +/- 0.0000\n",
      "90 - Q14-001_Q_BOB_-0005A_161013_101243.dat, current:   -5.0123 +/- 0.0000\n",
      "91 - Q14-001_Q_BOB_-0007A_161013_101332.dat, current:   -7.0168 +/- 0.0001\n",
      "92 - Q14-001_Q_BOB_-0009A_161013_101420.dat, current:   -9.0215 +/- 0.0000\n",
      "93 - Q14-001_Q_BOB_-0010A_161013_101510.dat, current:  -10.0002 +/- 0.0001\n",
      "94 - Q14-001_Q_BOB_-0009A_161013_101558.dat, current:   -9.0215 +/- 0.0000\n",
      "95 - Q14-001_Q_BOB_-0007A_161013_101732.dat, current:   -7.0168 +/- 0.0001\n",
      "96 - Q14-001_Q_BOB_-0005A_161013_101820.dat, current:   -5.0124 +/- 0.0001\n",
      "97 - Q14-001_Q_BOB_-0003A_161013_101909.dat, current:   -3.0079 +/- 0.0001\n",
      "98 - Q14-001_Q_BOB_-0001A_161013_101957.dat, current:   -1.0034 +/- 0.0000\n",
      "99 - Q14-001_Q_BOB_+0000A_161013_102047.dat, current:   -0.0012 +/- 0.0000\n",
      "100 - Q14-001_Q_BOB_+0000A_161013_104646.dat, current:   -0.0012 +/- 0.0000\n",
      "101 - Q14-001_Q_BOB_+0001A_161013_104735.dat, current:   +1.0010 +/- 0.0000\n",
      "102 - Q14-001_Q_BOB_+0003A_161013_104827.dat, current:   +3.0055 +/- 0.0000\n",
      "103 - Q14-001_Q_BOB_+0005A_161013_104920.dat, current:   +5.0098 +/- 0.0000\n",
      "104 - Q14-001_Q_BOB_+0007A_161013_105012.dat, current:   +7.0145 +/- 0.0000\n",
      "105 - Q14-001_Q_BOB_+0009A_161013_105104.dat, current:   +9.0192 +/- 0.0000\n",
      "106 - Q14-001_Q_BOB_+0010A_161013_105153.dat, current:   +9.9991 +/- 0.0000\n",
      "107 - Q14-001_Q_BOB_+0009A_161013_105244.dat, current:   +9.0193 +/- 0.0000\n",
      "108 - Q14-001_Q_BOB_+0007A_161013_105422.dat, current:   +7.0146 +/- 0.0000\n",
      "109 - Q14-001_Q_BOB_+0005A_161013_105515.dat, current:   +5.0098 +/- 0.0000\n",
      "110 - Q14-001_Q_BOB_+0003A_161013_105608.dat, current:   +3.0055 +/- 0.0000\n",
      "111 - Q14-001_Q_BOB_+0001A_161013_105701.dat, current:   +1.0010 +/- 0.0000\n",
      "112 - Q14-001_Q_BOB_+0000A_161013_105752.dat, current:   -0.0012 +/- 0.0000\n",
      "113 - Q14-001_Q_BOB_-0001A_161013_105842.dat, current:   -1.0033 +/- 0.0000\n",
      "114 - Q14-001_Q_BOB_-0003A_161013_105936.dat, current:   -3.0079 +/- 0.0000\n",
      "115 - Q14-001_Q_BOB_-0005A_161013_110029.dat, current:   -5.0124 +/- 0.0000\n",
      "116 - Q14-001_Q_BOB_-0007A_161013_110123.dat, current:   -7.0168 +/- 0.0000\n",
      "117 - Q14-001_Q_BOB_-0009A_161013_110217.dat, current:   -9.0215 +/- 0.0000\n",
      "118 - Q14-001_Q_BOB_-0010A_161013_110307.dat, current:  -10.0002 +/- 0.0000\n",
      "119 - Q14-001_Q_BOB_-0009A_161013_110358.dat, current:   -9.0215 +/- 0.0000\n",
      "120 - Q14-001_Q_BOB_-0007A_161013_110451.dat, current:   -7.0168 +/- 0.0000\n",
      "121 - Q14-001_Q_BOB_-0005A_161013_110544.dat, current:   -5.0124 +/- 0.0001\n",
      "122 - Q14-001_Q_BOB_-0003A_161013_110637.dat, current:   -3.0080 +/- 0.0000\n",
      "123 - Q14-001_Q_BOB_-0001A_161013_110731.dat, current:   -1.0034 +/- 0.0000\n",
      "124 - Q14-001_Q_BOB_+0000A_161013_110821.dat, current:   -0.0012 +/- 0.0000\n",
      "125 - Q14-001_Q_BOB_+0000A_161013_111519.dat, current:   -0.0012 +/- 0.0001\n",
      "126 - Q14-001_Q_BOB_+0001A_161013_111611.dat, current:   +1.0010 +/- 0.0001\n",
      "127 - Q14-001_Q_BOB_+0003A_161013_111704.dat, current:   +3.0055 +/- 0.0001\n",
      "128 - Q14-001_Q_BOB_+0005A_161013_111757.dat, current:   +5.0098 +/- 0.0001\n",
      "129 - Q14-001_Q_BOB_+0007A_161013_111851.dat, current:   +7.0145 +/- 0.0001\n",
      "130 - Q14-001_Q_BOB_+0009A_161013_112029.dat, current:   +9.0192 +/- 0.0001\n",
      "131 - Q14-001_Q_BOB_+0010A_161013_112120.dat, current:   +9.9992 +/- 0.0002\n",
      "132 - Q14-001_Q_BOB_+0009A_161013_112211.dat, current:   +9.0192 +/- 0.0001\n",
      "133 - Q14-001_Q_BOB_+0007A_161013_112305.dat, current:   +7.0146 +/- 0.0001\n",
      "134 - Q14-001_Q_BOB_+0005A_161013_112359.dat, current:   +5.0099 +/- 0.0001\n",
      "135 - Q14-001_Q_BOB_+0003A_161013_112537.dat, current:   +3.0055 +/- 0.0001\n",
      "136 - Q14-001_Q_BOB_+0001A_161013_112631.dat, current:   +1.0010 +/- 0.0001\n",
      "137 - Q14-001_Q_BOB_+0000A_161013_112722.dat, current:   -0.0012 +/- 0.0001\n",
      "138 - Q14-001_Q_BOB_-0001A_161013_112813.dat, current:   -1.0033 +/- 0.0001\n",
      "139 - Q14-001_Q_BOB_-0003A_161013_112907.dat, current:   -3.0079 +/- 0.0002\n",
      "140 - Q14-001_Q_BOB_-0005A_161013_113001.dat, current:   -5.0124 +/- 0.0001\n",
      "141 - Q14-001_Q_BOB_-0007A_161013_113054.dat, current:   -7.0168 +/- 0.0001\n",
      "142 - Q14-001_Q_BOB_-0009A_161013_113148.dat, current:   -9.0215 +/- 0.0001\n",
      "143 - Q14-001_Q_BOB_-0010A_161013_113239.dat, current:  -10.0002 +/- 0.0001\n",
      "144 - Q14-001_Q_BOB_-0009A_161013_113415.dat, current:   -9.0216 +/- 0.0001\n",
      "145 - Q14-001_Q_BOB_-0007A_161013_113509.dat, current:   -7.0168 +/- 0.0001\n",
      "146 - Q14-001_Q_BOB_-0005A_161013_113602.dat, current:   -5.0124 +/- 0.0001\n",
      "147 - Q14-001_Q_BOB_-0003A_161013_113655.dat, current:   -3.0080 +/- 0.0002\n",
      "148 - Q14-001_Q_BOB_-0001A_161013_113748.dat, current:   -1.0034 +/- 0.0001\n",
      "149 - Q14-001_Q_BOB_+0000A_161013_113840.dat, current:   -0.0012 +/- 0.0001\n"
     ]
    }
   ],
   "source": [
    "# --- get list of data files ---\n",
    "fnames = ut.files_get_matches('data')\n",
    "\n",
    "# --- loads and analysis data files ---\n",
    "q14_001 = rc.run_analysis(parms, fnames); \n",
    "\n",
    "all_data = [[q14_001],]"
   ]
  },
  {
   "cell_type": "markdown",
   "metadata": {},
   "source": [
    "## Remanent field"
   ]
  },
  {
   "cell_type": "code",
   "execution_count": 3,
   "metadata": {
    "collapsed": false
   },
   "outputs": [
    {
     "name": "stdout",
     "output_type": "stream",
     "text": [
      "                 skew                     |  normal\n",
      "                ----------------------------------------------------\n",
      "dipole [T.m]   : -8.473e-06 +/- 9.398e-06 | -8.370e-07 +/- 6.988e-06 \n",
      "quadrupole [T] : -2.230e-06 +/- 7.638e-05 | +2.153e+00 +/- 2.072e+00 \n",
      "sextupole [T/m]: +1.513e-01 +/- 1.444e-01 | +4.434e-02 +/- 4.194e-02 \n",
      "\n"
     ]
    }
   ],
   "source": [
    "(polya_avg,polya_std),(polyb_avg,polyb_std) = rc.get_remanent_field(all_data, current_threshold=0.5)\n",
    "print('                 skew                     |  normal')\n",
    "print('                ----------------------------------------------------')\n",
    "print('dipole [T.m]   : {0:+.3e} +/- {1:.3e} | {2:+.3e} +/- {3:.3e} '.format(polya_avg[0], polya_std[0], polyb_avg[0], polyb_std[0]))\n",
    "print('quadrupole [T] : {0:+.3e} +/- {1:.3e} | {2:+.3e} +/- {3:.3e} '.format(polya_avg[1], polya_std[1], polyb_avg[1], polyb_std[1]))\n",
    "print('sextupole [T/m]: {0:+.3e} +/- {1:.3e} | {2:+.3e} +/- {3:.3e} '.format(polya_avg[2], polya_std[2], polyb_avg[2], polyb_std[2]))\n",
    "print('')"
   ]
  },
  {
   "cell_type": "markdown",
   "metadata": {},
   "source": [
    "## Maximum quadrupole strength"
   ]
  },
  {
   "cell_type": "code",
   "execution_count": 4,
   "metadata": {
    "collapsed": false
   },
   "outputs": [
    {
     "name": "stdout",
     "output_type": "stream",
     "text": [
      "max integrated quadrupole (spec)   : +5.212 [T]\n",
      "max integrated quadrupole (data)   : +5.312 [T] (+1.9 %)\n",
      "\n"
     ]
    }
   ],
   "source": [
    "ML = parms.max_integ_mult_spec # [T]\n",
    "\n",
    "d = rc.get_maximum_main_multipole(q14_001,parms,0.5); \n",
    "print('{0:<35s}: {1:+.3f} [T]'.format('max integrated quadrupole (spec)', ML))\n",
    "print('{0:<35s}: {1:+.3f} [T] ({2:+.1f} %)'.format('max integrated quadrupole (data)', d, 100*(d-ML)/ML))\n",
    "print('')"
   ]
  },
  {
   "cell_type": "markdown",
   "metadata": {},
   "source": [
    "## Relative multipoles (saved to PNG files)"
   ]
  },
  {
   "cell_type": "code",
   "execution_count": 26,
   "metadata": {
    "collapsed": false
   },
   "outputs": [],
   "source": [
    "marked_currents = None\n",
    "show_flag = True\n",
    "rc.plot_relative_multipoles(all_data, parms, 3,  mtype='normal', current_threshold=0.5, currents=marked_currents, show=show_flag)\n",
    "rc.plot_relative_multipoles(all_data, parms, 4,  mtype='normal', current_threshold=0.5, currents=marked_currents, show=show_flag, ylim=[-2e-4,2e-4])\n",
    "rc.plot_relative_multipoles(all_data, parms, 5,  mtype='normal', current_threshold=0.5, currents=marked_currents, show=show_flag, ylim=[-2e-4,2e-4])\n",
    "rc.plot_relative_multipoles(all_data, parms, 6,  mtype='normal', current_threshold=0.5, currents=marked_currents, show=show_flag, ylim=None)\n",
    "rc.plot_relative_multipoles(all_data, parms, 10,  mtype='normal', current_threshold=0.5, currents=marked_currents, show=show_flag, ylim=[0,2e-3])\n",
    "rc.plot_relative_multipoles(all_data, parms, 14,  mtype='normal', current_threshold=0.5, currents=marked_currents, show=show_flag, ylim=[-10e-4,0])\n",
    "rc.plot_relative_multipoles(all_data, parms, 18,  mtype='normal', current_threshold=0.5, currents=marked_currents, show=show_flag, ylim=None)"
   ]
  },
  {
   "cell_type": "code",
   "execution_count": 24,
   "metadata": {
    "collapsed": false
   },
   "outputs": [
    {
     "name": "stdout",
     "output_type": "stream",
     "text": [
      "h  :      (B_n/B_2)@r_0        |       (B_n/B_2)@r_0      \n",
      "----------------------------------------------------------\n",
      "01 : -1.982e-04 +/- 0.000e+00  |  -2.429e-04 +/- 0.000e+00\n",
      "02 : +1.000e+00 +/- 0.000e+00  |  +5.712e-05 +/- 0.000e+00\n",
      "03 : +2.766e-04 +/- 0.000e+00  |  +8.277e-04 +/- 0.000e+00\n",
      "04 : +1.025e-04 +/- 0.000e+00  |  +6.480e-05 +/- 0.000e+00\n",
      "05 : +1.614e-04 +/- 0.000e+00  |  +5.488e-05 +/- 0.000e+00\n",
      "06 : -3.792e-04 +/- 0.000e+00  |  +4.091e-05 +/- 0.000e+00\n",
      "07 : +9.774e-05 +/- 0.000e+00  |  -3.840e-06 +/- 0.000e+00\n",
      "08 : +5.595e-05 +/- 0.000e+00  |  +1.791e-05 +/- 0.000e+00\n",
      "09 : +5.092e-05 +/- 0.000e+00  |  -3.072e-05 +/- 0.000e+00\n",
      "10 : +1.630e-03 +/- 0.000e+00  |  -2.569e-05 +/- 0.000e+00\n",
      "11 : +7.019e-05 +/- 0.000e+00  |  -2.736e-05 +/- 0.000e+00\n",
      "12 : +7.363e-05 +/- 0.000e+00  |  -3.053e-05 +/- 0.000e+00\n",
      "13 : +6.532e-05 +/- 0.000e+00  |  -2.347e-05 +/- 0.000e+00\n",
      "14 : -6.273e-04 +/- 0.000e+00  |  -3.233e-05 +/- 0.000e+00\n",
      "15 : +4.018e-05 +/- 0.000e+00  |  -4.411e-05 +/- 0.000e+00\n",
      "16 : +5.209e-05 +/- 0.000e+00  |  -4.468e-05 +/- 0.000e+00\n",
      "17 : +5.228e-05 +/- 0.000e+00  |  -4.542e-05 +/- 0.000e+00\n",
      "18 : +1.625e-05 +/- 0.000e+00  |  -4.601e-05 +/- 0.000e+00\n",
      "\n",
      "harmonics:  [ 0  1  2  3  4  5  6  7  8  9 10 11 12 13 14 15 16 17]\n",
      "polyb_avg: [-2.0e-04,+1.0e+00,+2.8e-04,+1.0e-04,+1.6e-04,-3.8e-04,+9.8e-05,+5.6e-05,+5.1e-05,+1.6e-03,+7.0e-05,+7.4e-05,+6.5e-05,-6.3e-04,+4.0e-05,+5.2e-05,+5.2e-05,+1.6e-05,]\n",
      "polyb_std: [+0.0e+00,+0.0e+00,+0.0e+00,+0.0e+00,+0.0e+00,+0.0e+00,+0.0e+00,+0.0e+00,+0.0e+00,+0.0e+00,+0.0e+00,+0.0e+00,+0.0e+00,+0.0e+00,+0.0e+00,+0.0e+00,+0.0e+00,+0.0e+00,]\n",
      "polya_avg: [-2.4e-04,+5.7e-05,+8.3e-04,+6.5e-05,+5.5e-05,+4.1e-05,-3.8e-06,+1.8e-05,-3.1e-05,-2.6e-05,-2.7e-05,-3.1e-05,-2.3e-05,-3.2e-05,-4.4e-05,-4.5e-05,-4.5e-05,-4.6e-05,]\n",
      "polya_std: [+0.0e+00,+0.0e+00,+0.0e+00,+0.0e+00,+0.0e+00,+0.0e+00,+0.0e+00,+0.0e+00,+0.0e+00,+0.0e+00,+0.0e+00,+0.0e+00,+0.0e+00,+0.0e+00,+0.0e+00,+0.0e+00,+0.0e+00,+0.0e+00,]\n"
     ]
    }
   ],
   "source": [
    "show_flag = True\n",
    "\n",
    "\n",
    "# --- Magnetic center\n",
    "rc.plot_magnetic_center(all_data, parms, mtype='normal', currents=marked_currents, show=show_flag)\n",
    "rc.plot_magnetic_center(all_data, parms, mtype='skew',   currents=marked_currents, show=show_flag)\n",
    "\n",
    "# --- Rotation Angle\n",
    "rc.plot_rotation_angle(all_data, parms, currents=marked_currents, show=show_flag)\n",
    "\n",
    "# --- Printout of relative multipole at maximum_current\n",
    "max_current = 150\n",
    "rc.print_multipoles(all_data, parms, max_current, 0.5)"
   ]
  }
 ],
 "metadata": {
  "kernelspec": {
   "display_name": "Python 3",
   "language": "python",
   "name": "python3"
  },
  "language_info": {
   "codemirror_mode": {
    "name": "ipython",
    "version": 3
   },
   "file_extension": ".py",
   "mimetype": "text/x-python",
   "name": "python",
   "nbconvert_exporter": "python",
   "pygments_lexer": "ipython3",
   "version": "3.4.3"
  }
 },
 "nbformat": 4,
 "nbformat_minor": 0
}
